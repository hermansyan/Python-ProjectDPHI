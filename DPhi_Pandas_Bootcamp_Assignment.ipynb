{
  "nbformat": 4,
  "nbformat_minor": 0,
  "metadata": {
    "colab": {
      "name": "DPhi Pandas Bootcamp Assignment.ipynb",
      "provenance": [],
      "collapsed_sections": [],
      "include_colab_link": true
    },
    "kernelspec": {
      "name": "python3",
      "display_name": "Python 3"
    },
    "language_info": {
      "name": "python"
    }
  },
  "cells": [
    {
      "cell_type": "markdown",
      "metadata": {
        "id": "view-in-github",
        "colab_type": "text"
      },
      "source": [
        "<a href=\"https://colab.research.google.com/github/hermansyan/Python-ProjectDPHI/blob/main/DPhi_Pandas_Bootcamp_Assignment.ipynb\" target=\"_parent\"><img src=\"https://colab.research.google.com/assets/colab-badge.svg\" alt=\"Open In Colab\"/></a>"
      ]
    },
    {
      "cell_type": "markdown",
      "source": [
        "# DPhi Pandas Assignment Details\n",
        "\n",
        "Dear Learner, \n",
        "\n",
        "Congratulations, you have studied Pandas all the way through the end of this bootcamp!!! This is the final graded hands-on exercise where you will be accomplishing the below mentioned task."
      ],
      "metadata": {
        "id": "gAcWVKAu7-XY"
      }
    },
    {
      "cell_type": "markdown",
      "source": [
        "# Step 1: Select a Dataset of your choice\n",
        "\n",
        "*   https://www.kdnuggets.com/datasets/index.html\n",
        "*   https://dphi.tech/challenges/#past \n",
        "* https://pub.towardsai.net/best-datasets-for-machine-learning-data-science-computer-vision-nlp-ai-c9541058cf4f  \n",
        "* https://medium.com/analytics-vidhya/top-100-open-source-datasets-for-data-science-cd5a8d67cc3d\n",
        "\n",
        "\n",
        "or you can pick any dataset of your interest on the internet and add reference to it"
      ],
      "metadata": {
        "id": "rwrGCwC28gYK"
      }
    },
    {
      "cell_type": "markdown",
      "source": [
        "# Evaluation Criteria\n",
        "\n",
        "Your submission will be evaluated using the following criteria:\n",
        "\n",
        "* You must ensure that the dataset is tabular.  \n",
        "* You must ask and answer at least 3 questions about the dataset\n",
        "*   Your submission must include explanations using markdown cells, apart from the code.\n",
        "*   Your work must not be plagiarized i.e. copied for somewhere else."
      ],
      "metadata": {
        "id": "BSzUqejV4rCr"
      }
    },
    {
      "cell_type": "code",
      "source": [
        "https://covid.ourworldindata.org/data/owid-covid-data.csv"
      ],
      "metadata": {
        "id": "NJ1Jr5bY9koD"
      },
      "execution_count": null,
      "outputs": []
    },
    {
      "cell_type": "markdown",
      "source": [
        "#Step 2: Perform Data Cleaning/Preparation & Analysis\n",
        "\n",
        "1. Create data frame(s) from CSV files\n",
        "2. Perform index operations on data frame(s)\n",
        "3. Apply Group, merge and aggregate data frame(s)\n",
        "4. Check for missing and invalid values in data\n",
        "5. Propose a way to treat the missing and invalid values and implement the same on the dataframe\n",
        "5. Compute the mean, sum, range and other interesting statistics for numeric columns\n"
      ],
      "metadata": {
        "id": "iuOt6Vrp83iw"
      }
    },
    {
      "cell_type": "code",
      "source": [
        "import pandas as pd"
      ],
      "metadata": {
        "id": "DDqpPEFM9lXT"
      },
      "execution_count": 1,
      "outputs": []
    },
    {
      "cell_type": "markdown",
      "source": [
        "# Step 3: Exploration & Inference\n",
        "\n",
        "1. Ask at least 3 interesting questions about your dataset\n",
        "2. Answer the questions by computing the results using Pandas library\n",
        "3. Add concluding remarks\n"
      ],
      "metadata": {
        "id": "cr8mD-Uy9Wev"
      }
    },
    {
      "cell_type": "code",
      "source": [
        ""
      ],
      "metadata": {
        "id": "5FkDCSgT9mCc"
      },
      "execution_count": null,
      "outputs": []
    }
  ]
}